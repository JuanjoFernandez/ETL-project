{
 "cells": [
  {
   "cell_type": "markdown",
   "metadata": {},
   "source": [
    "# Extract, Transform and Load\n",
    "<hr>"
   ]
  },
  {
   "cell_type": "markdown",
   "metadata": {},
   "source": [
    "## Dependencies"
   ]
  },
  {
   "cell_type": "code",
   "execution_count": 1,
   "metadata": {},
   "outputs": [],
   "source": [
    "# Dependencies and libraries\n",
    "\n",
    "import pandas as pd\n",
    "import datetime as dt\n",
    "from sqlalchemy import create_engine\n",
    "import requests\n",
    "import pymongo"
   ]
  },
  {
   "cell_type": "markdown",
   "metadata": {},
   "source": [
    "## Movies Extract"
   ]
  },
  {
   "cell_type": "code",
   "execution_count": 2,
   "metadata": {},
   "outputs": [],
   "source": [
    "# Creates the dataframe\n",
    "movies_file=\"MoviesOnStreamingPlatforms.csv\"\n",
    "movies_df=pd.read_csv(movies_file)"
   ]
  },
  {
   "cell_type": "code",
   "execution_count": 3,
   "metadata": {},
   "outputs": [
    {
     "data": {
      "text/plain": [
       "Index(['Unnamed: 0', 'ID', 'Title', 'Year', 'Age', 'IMDb', 'Rotten Tomatoes',\n",
       "       'Netflix', 'Hulu', 'Prime Video', 'Disney+', 'Type', 'Directors',\n",
       "       'Genres', 'Country', 'Language', 'Runtime'],\n",
       "      dtype='object')"
      ]
     },
     "execution_count": 3,
     "metadata": {},
     "output_type": "execute_result"
    }
   ],
   "source": [
    "movies_df.columns"
   ]
  },
  {
   "cell_type": "code",
   "execution_count": 4,
   "metadata": {},
   "outputs": [
    {
     "data": {
      "text/html": [
       "<div>\n",
       "<style scoped>\n",
       "    .dataframe tbody tr th:only-of-type {\n",
       "        vertical-align: middle;\n",
       "    }\n",
       "\n",
       "    .dataframe tbody tr th {\n",
       "        vertical-align: top;\n",
       "    }\n",
       "\n",
       "    .dataframe thead th {\n",
       "        text-align: right;\n",
       "    }\n",
       "</style>\n",
       "<table border=\"1\" class=\"dataframe\">\n",
       "  <thead>\n",
       "    <tr style=\"text-align: right;\">\n",
       "      <th></th>\n",
       "      <th>title</th>\n",
       "      <th>year</th>\n",
       "      <th>director</th>\n",
       "      <th>age</th>\n",
       "      <th>genre</th>\n",
       "      <th>languages</th>\n",
       "      <th>hulu</th>\n",
       "      <th>prime_video</th>\n",
       "      <th>disney_plus</th>\n",
       "    </tr>\n",
       "  </thead>\n",
       "  <tbody>\n",
       "    <tr>\n",
       "      <th>0</th>\n",
       "      <td>Inception</td>\n",
       "      <td>2010</td>\n",
       "      <td>Christopher Nolan</td>\n",
       "      <td>13+</td>\n",
       "      <td>Action,Adventure,Sci-Fi,Thriller</td>\n",
       "      <td>English,Japanese,French</td>\n",
       "      <td>0</td>\n",
       "      <td>0</td>\n",
       "      <td>0</td>\n",
       "    </tr>\n",
       "    <tr>\n",
       "      <th>1</th>\n",
       "      <td>The Matrix</td>\n",
       "      <td>1999</td>\n",
       "      <td>Lana Wachowski,Lilly Wachowski</td>\n",
       "      <td>18+</td>\n",
       "      <td>Action,Sci-Fi</td>\n",
       "      <td>English</td>\n",
       "      <td>0</td>\n",
       "      <td>0</td>\n",
       "      <td>0</td>\n",
       "    </tr>\n",
       "    <tr>\n",
       "      <th>2</th>\n",
       "      <td>Avengers: Infinity War</td>\n",
       "      <td>2018</td>\n",
       "      <td>Anthony Russo,Joe Russo</td>\n",
       "      <td>13+</td>\n",
       "      <td>Action,Adventure,Sci-Fi</td>\n",
       "      <td>English</td>\n",
       "      <td>0</td>\n",
       "      <td>0</td>\n",
       "      <td>0</td>\n",
       "    </tr>\n",
       "    <tr>\n",
       "      <th>3</th>\n",
       "      <td>Back to the Future</td>\n",
       "      <td>1985</td>\n",
       "      <td>Robert Zemeckis</td>\n",
       "      <td>7+</td>\n",
       "      <td>Adventure,Comedy,Sci-Fi</td>\n",
       "      <td>English</td>\n",
       "      <td>0</td>\n",
       "      <td>0</td>\n",
       "      <td>0</td>\n",
       "    </tr>\n",
       "    <tr>\n",
       "      <th>4</th>\n",
       "      <td>The Good, the Bad and the Ugly</td>\n",
       "      <td>1966</td>\n",
       "      <td>Sergio Leone</td>\n",
       "      <td>18+</td>\n",
       "      <td>Western</td>\n",
       "      <td>Italian</td>\n",
       "      <td>0</td>\n",
       "      <td>1</td>\n",
       "      <td>0</td>\n",
       "    </tr>\n",
       "  </tbody>\n",
       "</table>\n",
       "</div>"
      ],
      "text/plain": [
       "                            title  year                        director  age  \\\n",
       "0                       Inception  2010               Christopher Nolan  13+   \n",
       "1                      The Matrix  1999  Lana Wachowski,Lilly Wachowski  18+   \n",
       "2          Avengers: Infinity War  2018         Anthony Russo,Joe Russo  13+   \n",
       "3              Back to the Future  1985                 Robert Zemeckis   7+   \n",
       "4  The Good, the Bad and the Ugly  1966                    Sergio Leone  18+   \n",
       "\n",
       "                              genre                languages  hulu  \\\n",
       "0  Action,Adventure,Sci-Fi,Thriller  English,Japanese,French     0   \n",
       "1                     Action,Sci-Fi                  English     0   \n",
       "2           Action,Adventure,Sci-Fi                  English     0   \n",
       "3           Adventure,Comedy,Sci-Fi                  English     0   \n",
       "4                           Western                  Italian     0   \n",
       "\n",
       "   prime_video  disney_plus  \n",
       "0            0            0  \n",
       "1            0            0  \n",
       "2            0            0  \n",
       "3            0            0  \n",
       "4            1            0  "
      ]
     },
     "execution_count": 4,
     "metadata": {},
     "output_type": "execute_result"
    }
   ],
   "source": [
    "# Selecting and renaming relevant columns\n",
    "new_movies_df=movies_df[['Title', 'Year','Directors', 'Age','Genres', 'Language','Hulu', 'Prime Video', 'Disney+']].copy()\n",
    "new_movies_df.rename(columns={'Title':'title','Year':'year','Genres':'genre','Language':'languages','Directors':'director', 'Age':'age', 'Hulu':'hulu',\n",
    "                              'Prime Video':'prime_video', 'Disney+':'disney_plus'},inplace=True)\n",
    "new_movies_df.head()\n"
   ]
  },
  {
   "cell_type": "markdown",
   "metadata": {},
   "source": [
    "Create our key with movie title and movie year"
   ]
  },
  {
   "cell_type": "code",
   "execution_count": 5,
   "metadata": {},
   "outputs": [],
   "source": [
    "new_movies_df['key']=new_movies_df['title'].astype('string')+\"-\"+new_movies_df['year'].astype(str)\n"
   ]
  },
  {
   "cell_type": "markdown",
   "metadata": {},
   "source": [
    "## Netflix Movies Extract"
   ]
  },
  {
   "cell_type": "code",
   "execution_count": 6,
   "metadata": {},
   "outputs": [],
   "source": [
    "# Creating dataframe, this will be the main one to work on\n",
    "\n",
    "netflix_file=\"netflix-dataset.csv\"\n",
    "netflix_df=pd.read_csv(netflix_file)"
   ]
  },
  {
   "cell_type": "markdown",
   "metadata": {},
   "source": [
    "## Netflix Transformation"
   ]
  },
  {
   "cell_type": "code",
   "execution_count": 7,
   "metadata": {},
   "outputs": [
    {
     "data": {
      "text/plain": [
       "Index(['Title', 'Genre', 'Tags', 'Languages', 'Series or Movie',\n",
       "       'Hidden Gem Score', 'Country Availability', 'Runtime', 'Director',\n",
       "       'Writer', 'Actors', 'View Rating', 'IMDb Score',\n",
       "       'Rotten Tomatoes Score', 'Metacritic Score', 'Awards Received',\n",
       "       'Awards Nominated For', 'Boxoffice', 'Release Date',\n",
       "       'Netflix Release Date', 'Production House', 'Netflix Link', 'IMDb Link',\n",
       "       'Summary', 'IMDb Votes', 'Image', 'Poster', 'TMDb Trailer',\n",
       "       'Trailer Site'],\n",
       "      dtype='object')"
      ]
     },
     "execution_count": 7,
     "metadata": {},
     "output_type": "execute_result"
    }
   ],
   "source": [
    "netflix_df.columns"
   ]
  },
  {
   "cell_type": "markdown",
   "metadata": {},
   "source": [
    "### We search only for Movies in Netflix Dataset"
   ]
  },
  {
   "cell_type": "code",
   "execution_count": 8,
   "metadata": {},
   "outputs": [],
   "source": [
    "# Slicing the dataframe to contain only movies\n",
    "\n",
    "new_netflix_df = netflix_df[netflix_df['Series or Movie']=='Movie'].copy()"
   ]
  },
  {
   "cell_type": "code",
   "execution_count": 9,
   "metadata": {},
   "outputs": [],
   "source": [
    "# Selecting and renaming relevant columns\n",
    "\n",
    "new_netflix_df=new_netflix_df[['Title', 'Genre', 'Languages', 'Director','Actors', 'IMDb Score', \n",
    "                'Release Date', 'IMDb Link', 'Poster','Summary']]\n",
    "\n",
    "new_netflix_df.rename(columns = {'Title':'title', 'Genre':'genre', 'Languages':'languages', \n",
    "                               'Director':'director','Actors':'actors', 'IMDb Score':'imdb_score', \n",
    "                               'Release Date':'release_date', 'IMDb Link':'imdb_link',\n",
    "                               'Summary':'summary', 'Poster':'poster'},inplace=True)\n",
    "\n"
   ]
  },
  {
   "cell_type": "markdown",
   "metadata": {},
   "source": [
    "Define all movies in Netflix dataset with 1 value in Netflix column"
   ]
  },
  {
   "cell_type": "code",
   "execution_count": 10,
   "metadata": {},
   "outputs": [],
   "source": [
    "new_netflix_df['netflix'] = 1"
   ]
  },
  {
   "cell_type": "markdown",
   "metadata": {},
   "source": [
    "Format date column to date format and extract the year"
   ]
  },
  {
   "cell_type": "code",
   "execution_count": 11,
   "metadata": {},
   "outputs": [],
   "source": [
    "# Casting release date to datetime datatype and extracting the year only\n",
    "\n",
    "new_netflix_df['release_date'] = pd.to_datetime(new_netflix_df['release_date'], format='%d %b %Y')\n",
    "new_netflix_df.dropna(subset=['release_date'],inplace=True)\n",
    "new_netflix_df['year']=new_netflix_df.loc[:,'release_date'].dt.year.astype(int)"
   ]
  },
  {
   "cell_type": "code",
   "execution_count": 12,
   "metadata": {},
   "outputs": [],
   "source": [
    "new_netflix_df=new_netflix_df[['title','year', 'netflix', 'genre', 'languages', 'director', 'actors',\n",
    "       'imdb_score', 'release_date', 'imdb_link', 'poster', 'summary']]"
   ]
  },
  {
   "cell_type": "markdown",
   "metadata": {},
   "source": [
    "### Drop movies with the same title"
   ]
  },
  {
   "cell_type": "markdown",
   "metadata": {},
   "source": [
    "Delete all movies with the same title as we will use movie title and movie year as our join key"
   ]
  },
  {
   "cell_type": "code",
   "execution_count": 13,
   "metadata": {},
   "outputs": [
    {
     "name": "stdout",
     "output_type": "stream",
     "text": [
      "There are 0 duplicate titles in the Netflix dataset\n"
     ]
    }
   ],
   "source": [
    "new_netflix_df = new_netflix_df.drop_duplicates(subset='title',keep='first')\n",
    "\n",
    "print(f\"There are {new_netflix_df['title'].duplicated().sum()} duplicate titles in the Netflix dataset\")"
   ]
  },
  {
   "cell_type": "markdown",
   "metadata": {},
   "source": [
    "Create our key with movie title and movie year"
   ]
  },
  {
   "cell_type": "code",
   "execution_count": 15,
   "metadata": {},
   "outputs": [],
   "source": [
    "new_netflix_df['key']=new_netflix_df['title']+\"-\"+new_netflix_df['year'].astype(str)"
   ]
  },
  {
   "cell_type": "code",
   "execution_count": 16,
   "metadata": {
    "scrolled": false
   },
   "outputs": [
    {
     "data": {
      "text/html": [
       "<div>\n",
       "<style scoped>\n",
       "    .dataframe tbody tr th:only-of-type {\n",
       "        vertical-align: middle;\n",
       "    }\n",
       "\n",
       "    .dataframe tbody tr th {\n",
       "        vertical-align: top;\n",
       "    }\n",
       "\n",
       "    .dataframe thead th {\n",
       "        text-align: right;\n",
       "    }\n",
       "</style>\n",
       "<table border=\"1\" class=\"dataframe\">\n",
       "  <thead>\n",
       "    <tr style=\"text-align: right;\">\n",
       "      <th></th>\n",
       "      <th>title</th>\n",
       "      <th>year</th>\n",
       "      <th>netflix</th>\n",
       "      <th>genre</th>\n",
       "      <th>languages</th>\n",
       "      <th>director</th>\n",
       "      <th>actors</th>\n",
       "      <th>imdb_score</th>\n",
       "      <th>release_date</th>\n",
       "      <th>imdb_link</th>\n",
       "      <th>poster</th>\n",
       "      <th>summary</th>\n",
       "      <th>key</th>\n",
       "    </tr>\n",
       "  </thead>\n",
       "  <tbody>\n",
       "    <tr>\n",
       "      <th>1</th>\n",
       "      <td>HOW TO BUILD A GIRL</td>\n",
       "      <td>2020</td>\n",
       "      <td>1</td>\n",
       "      <td>Comedy</td>\n",
       "      <td>English</td>\n",
       "      <td>Coky Giedroyc</td>\n",
       "      <td>Paddy Considine, Cleo, Beanie Feldstein, Dónal...</td>\n",
       "      <td>5.8</td>\n",
       "      <td>2020-05-08</td>\n",
       "      <td>https://www.imdb.com/title/tt4193072</td>\n",
       "      <td>https://m.media-amazon.com/images/M/MV5BZGUyN2...</td>\n",
       "      <td>When nerdy Johanna moves to London, things get...</td>\n",
       "      <td>HOW TO BUILD A GIRL-2020</td>\n",
       "    </tr>\n",
       "    <tr>\n",
       "      <th>2</th>\n",
       "      <td>Centigrade</td>\n",
       "      <td>2020</td>\n",
       "      <td>1</td>\n",
       "      <td>Drama, Thriller</td>\n",
       "      <td>English</td>\n",
       "      <td>Brendan Walsh</td>\n",
       "      <td>Genesis Rodriguez, Vincent Piazza</td>\n",
       "      <td>4.3</td>\n",
       "      <td>2020-08-28</td>\n",
       "      <td>https://www.imdb.com/title/tt8945942</td>\n",
       "      <td>https://m.media-amazon.com/images/M/MV5BODM2MD...</td>\n",
       "      <td>Trapped in a frozen car during a blizzard, a p...</td>\n",
       "      <td>Centigrade-2020</td>\n",
       "    </tr>\n",
       "    <tr>\n",
       "      <th>4</th>\n",
       "      <td>Moxie</td>\n",
       "      <td>2011</td>\n",
       "      <td>1</td>\n",
       "      <td>Animation, Short, Drama</td>\n",
       "      <td>English</td>\n",
       "      <td>Stephen Irwin</td>\n",
       "      <td>Ragga Gudrun</td>\n",
       "      <td>6.3</td>\n",
       "      <td>2011-09-22</td>\n",
       "      <td>https://www.imdb.com/title/tt2023611</td>\n",
       "      <td>https://m.media-amazon.com/images/M/MV5BODYyNW...</td>\n",
       "      <td>Inspired by her moms rebellious past and a con...</td>\n",
       "      <td>Moxie-2011</td>\n",
       "    </tr>\n",
       "  </tbody>\n",
       "</table>\n",
       "</div>"
      ],
      "text/plain": [
       "                 title  year  netflix                    genre languages  \\\n",
       "1  HOW TO BUILD A GIRL  2020        1                   Comedy   English   \n",
       "2           Centigrade  2020        1          Drama, Thriller   English   \n",
       "4                Moxie  2011        1  Animation, Short, Drama   English   \n",
       "\n",
       "        director                                             actors  \\\n",
       "1  Coky Giedroyc  Paddy Considine, Cleo, Beanie Feldstein, Dónal...   \n",
       "2  Brendan Walsh                  Genesis Rodriguez, Vincent Piazza   \n",
       "4  Stephen Irwin                                       Ragga Gudrun   \n",
       "\n",
       "   imdb_score release_date                             imdb_link  \\\n",
       "1         5.8   2020-05-08  https://www.imdb.com/title/tt4193072   \n",
       "2         4.3   2020-08-28  https://www.imdb.com/title/tt8945942   \n",
       "4         6.3   2011-09-22  https://www.imdb.com/title/tt2023611   \n",
       "\n",
       "                                              poster  \\\n",
       "1  https://m.media-amazon.com/images/M/MV5BZGUyN2...   \n",
       "2  https://m.media-amazon.com/images/M/MV5BODM2MD...   \n",
       "4  https://m.media-amazon.com/images/M/MV5BODYyNW...   \n",
       "\n",
       "                                             summary                       key  \n",
       "1  When nerdy Johanna moves to London, things get...  HOW TO BUILD A GIRL-2020  \n",
       "2  Trapped in a frozen car during a blizzard, a p...           Centigrade-2020  \n",
       "4  Inspired by her moms rebellious past and a con...                Moxie-2011  "
      ]
     },
     "execution_count": 16,
     "metadata": {},
     "output_type": "execute_result"
    }
   ],
   "source": [
    "new_netflix_df.head(3)"
   ]
  },
  {
   "cell_type": "markdown",
   "metadata": {},
   "source": [
    "## Merge both data sets"
   ]
  },
  {
   "cell_type": "code",
   "execution_count": 17,
   "metadata": {},
   "outputs": [],
   "source": [
    "new_bd=pd.merge(new_netflix_df,new_movies_df, how='outer', on='key')"
   ]
  },
  {
   "cell_type": "markdown",
   "metadata": {},
   "source": [
    "## Some cleanning and format fix"
   ]
  },
  {
   "cell_type": "code",
   "execution_count": 18,
   "metadata": {},
   "outputs": [
    {
     "data": {
      "text/html": [
       "<div>\n",
       "<style scoped>\n",
       "    .dataframe tbody tr th:only-of-type {\n",
       "        vertical-align: middle;\n",
       "    }\n",
       "\n",
       "    .dataframe tbody tr th {\n",
       "        vertical-align: top;\n",
       "    }\n",
       "\n",
       "    .dataframe thead th {\n",
       "        text-align: right;\n",
       "    }\n",
       "</style>\n",
       "<table border=\"1\" class=\"dataframe\">\n",
       "  <thead>\n",
       "    <tr style=\"text-align: right;\">\n",
       "      <th></th>\n",
       "      <th>title_x</th>\n",
       "      <th>year_x</th>\n",
       "      <th>netflix</th>\n",
       "      <th>genre_x</th>\n",
       "      <th>languages_x</th>\n",
       "      <th>director_x</th>\n",
       "      <th>actors</th>\n",
       "      <th>imdb_score</th>\n",
       "      <th>release_date</th>\n",
       "      <th>imdb_link</th>\n",
       "      <th>...</th>\n",
       "      <th>key</th>\n",
       "      <th>title_y</th>\n",
       "      <th>year_y</th>\n",
       "      <th>director_y</th>\n",
       "      <th>age</th>\n",
       "      <th>genre_y</th>\n",
       "      <th>languages_y</th>\n",
       "      <th>hulu</th>\n",
       "      <th>prime_video</th>\n",
       "      <th>disney_plus</th>\n",
       "    </tr>\n",
       "  </thead>\n",
       "  <tbody>\n",
       "    <tr>\n",
       "      <th>10141</th>\n",
       "      <td>Avengers: Infinity War</td>\n",
       "      <td>2018.0</td>\n",
       "      <td>0</td>\n",
       "      <td>Action,Adventure,Sci-Fi</td>\n",
       "      <td>English</td>\n",
       "      <td>Anthony Russo,Joe Russo</td>\n",
       "      <td>NaN</td>\n",
       "      <td>NaN</td>\n",
       "      <td>NaT</td>\n",
       "      <td>No info available</td>\n",
       "      <td>...</td>\n",
       "      <td>Avengers: Infinity War-2018</td>\n",
       "      <td>Avengers: Infinity War</td>\n",
       "      <td>2018.0</td>\n",
       "      <td>Anthony Russo,Joe Russo</td>\n",
       "      <td>13+</td>\n",
       "      <td>Action,Adventure,Sci-Fi</td>\n",
       "      <td>English</td>\n",
       "      <td>0.0</td>\n",
       "      <td>0.0</td>\n",
       "      <td>0.0</td>\n",
       "    </tr>\n",
       "    <tr>\n",
       "      <th>10142</th>\n",
       "      <td>The Good, the Bad and the Ugly</td>\n",
       "      <td>1966.0</td>\n",
       "      <td>0</td>\n",
       "      <td>Western</td>\n",
       "      <td>Italian</td>\n",
       "      <td>Sergio Leone</td>\n",
       "      <td>NaN</td>\n",
       "      <td>NaN</td>\n",
       "      <td>NaT</td>\n",
       "      <td>No info available</td>\n",
       "      <td>...</td>\n",
       "      <td>The Good, the Bad and the Ugly-1966</td>\n",
       "      <td>The Good, the Bad and the Ugly</td>\n",
       "      <td>1966.0</td>\n",
       "      <td>Sergio Leone</td>\n",
       "      <td>18+</td>\n",
       "      <td>Western</td>\n",
       "      <td>Italian</td>\n",
       "      <td>0.0</td>\n",
       "      <td>1.0</td>\n",
       "      <td>0.0</td>\n",
       "    </tr>\n",
       "    <tr>\n",
       "      <th>10143</th>\n",
       "      <td>The Pianist</td>\n",
       "      <td>2002.0</td>\n",
       "      <td>0</td>\n",
       "      <td>Biography,Drama,Music,War</td>\n",
       "      <td>English,German,Russian</td>\n",
       "      <td>Roman Polanski</td>\n",
       "      <td>NaN</td>\n",
       "      <td>NaN</td>\n",
       "      <td>NaT</td>\n",
       "      <td>No info available</td>\n",
       "      <td>...</td>\n",
       "      <td>The Pianist-2002</td>\n",
       "      <td>The Pianist</td>\n",
       "      <td>2002.0</td>\n",
       "      <td>Roman Polanski</td>\n",
       "      <td>18+</td>\n",
       "      <td>Biography,Drama,Music,War</td>\n",
       "      <td>English,German,Russian</td>\n",
       "      <td>0.0</td>\n",
       "      <td>1.0</td>\n",
       "      <td>0.0</td>\n",
       "    </tr>\n",
       "    <tr>\n",
       "      <th>10144</th>\n",
       "      <td>Raiders of the Lost Ark</td>\n",
       "      <td>1981.0</td>\n",
       "      <td>0</td>\n",
       "      <td>Action,Adventure</td>\n",
       "      <td>English,German,Hebrew,Spanish,Arabic,Nepali</td>\n",
       "      <td>Steven Spielberg</td>\n",
       "      <td>NaN</td>\n",
       "      <td>NaN</td>\n",
       "      <td>NaT</td>\n",
       "      <td>No info available</td>\n",
       "      <td>...</td>\n",
       "      <td>Raiders of the Lost Ark-1981</td>\n",
       "      <td>Raiders of the Lost Ark</td>\n",
       "      <td>1981.0</td>\n",
       "      <td>Steven Spielberg</td>\n",
       "      <td>7+</td>\n",
       "      <td>Action,Adventure</td>\n",
       "      <td>English,German,Hebrew,Spanish,Arabic,Nepali</td>\n",
       "      <td>0.0</td>\n",
       "      <td>0.0</td>\n",
       "      <td>0.0</td>\n",
       "    </tr>\n",
       "    <tr>\n",
       "      <th>10145</th>\n",
       "      <td>Taxi Driver</td>\n",
       "      <td>1976.0</td>\n",
       "      <td>0</td>\n",
       "      <td>Crime,Drama</td>\n",
       "      <td>English,Spanish</td>\n",
       "      <td>Martin Scorsese</td>\n",
       "      <td>NaN</td>\n",
       "      <td>NaN</td>\n",
       "      <td>NaT</td>\n",
       "      <td>No info available</td>\n",
       "      <td>...</td>\n",
       "      <td>Taxi Driver-1976</td>\n",
       "      <td>Taxi Driver</td>\n",
       "      <td>1976.0</td>\n",
       "      <td>Martin Scorsese</td>\n",
       "      <td>18+</td>\n",
       "      <td>Crime,Drama</td>\n",
       "      <td>English,Spanish</td>\n",
       "      <td>0.0</td>\n",
       "      <td>0.0</td>\n",
       "      <td>0.0</td>\n",
       "    </tr>\n",
       "  </tbody>\n",
       "</table>\n",
       "<p>5 rows × 22 columns</p>\n",
       "</div>"
      ],
      "text/plain": [
       "                              title_x  year_x  netflix  \\\n",
       "10141          Avengers: Infinity War  2018.0        0   \n",
       "10142  The Good, the Bad and the Ugly  1966.0        0   \n",
       "10143                     The Pianist  2002.0        0   \n",
       "10144         Raiders of the Lost Ark  1981.0        0   \n",
       "10145                     Taxi Driver  1976.0        0   \n",
       "\n",
       "                         genre_x                                  languages_x  \\\n",
       "10141    Action,Adventure,Sci-Fi                                      English   \n",
       "10142                    Western                                      Italian   \n",
       "10143  Biography,Drama,Music,War                       English,German,Russian   \n",
       "10144           Action,Adventure  English,German,Hebrew,Spanish,Arabic,Nepali   \n",
       "10145                Crime,Drama                              English,Spanish   \n",
       "\n",
       "                    director_x actors  imdb_score release_date  \\\n",
       "10141  Anthony Russo,Joe Russo    NaN         NaN          NaT   \n",
       "10142             Sergio Leone    NaN         NaN          NaT   \n",
       "10143           Roman Polanski    NaN         NaN          NaT   \n",
       "10144         Steven Spielberg    NaN         NaN          NaT   \n",
       "10145          Martin Scorsese    NaN         NaN          NaT   \n",
       "\n",
       "               imdb_link  ...                                  key  \\\n",
       "10141  No info available  ...          Avengers: Infinity War-2018   \n",
       "10142  No info available  ...  The Good, the Bad and the Ugly-1966   \n",
       "10143  No info available  ...                     The Pianist-2002   \n",
       "10144  No info available  ...         Raiders of the Lost Ark-1981   \n",
       "10145  No info available  ...                     Taxi Driver-1976   \n",
       "\n",
       "                              title_y  year_y               director_y  age  \\\n",
       "10141          Avengers: Infinity War  2018.0  Anthony Russo,Joe Russo  13+   \n",
       "10142  The Good, the Bad and the Ugly  1966.0             Sergio Leone  18+   \n",
       "10143                     The Pianist  2002.0           Roman Polanski  18+   \n",
       "10144         Raiders of the Lost Ark  1981.0         Steven Spielberg   7+   \n",
       "10145                     Taxi Driver  1976.0          Martin Scorsese  18+   \n",
       "\n",
       "                         genre_y                                  languages_y  \\\n",
       "10141    Action,Adventure,Sci-Fi                                      English   \n",
       "10142                    Western                                      Italian   \n",
       "10143  Biography,Drama,Music,War                       English,German,Russian   \n",
       "10144           Action,Adventure  English,German,Hebrew,Spanish,Arabic,Nepali   \n",
       "10145                Crime,Drama                              English,Spanish   \n",
       "\n",
       "      hulu prime_video  disney_plus  \n",
       "10141  0.0         0.0          0.0  \n",
       "10142  0.0         1.0          0.0  \n",
       "10143  0.0         1.0          0.0  \n",
       "10144  0.0         0.0          0.0  \n",
       "10145  0.0         0.0          0.0  \n",
       "\n",
       "[5 rows x 22 columns]"
      ]
     },
     "execution_count": 18,
     "metadata": {},
     "output_type": "execute_result"
    }
   ],
   "source": [
    "# Creating a temporal dataframe for testing purposes\n",
    "\n",
    "new_bd['title_x'] = new_bd['title_x'].fillna(0)\n",
    "\n",
    "temporal2=new_bd.loc[new_bd['title_x']!=0,:].copy()\n",
    "temporal=new_bd.loc[new_bd['title_x']==0,:].copy()\n",
    "\n",
    "temporal['title_x']=temporal['title_y']\n",
    "temporal['year_x']=temporal['year_y']\n",
    "temporal['director_x']=temporal['director_y']\n",
    "temporal['genre_x']=temporal['genre_y']\n",
    "temporal['languages_x']=temporal['languages_y']\n",
    "temporal['poster']='https://www.google.com/imgres?imgurl=https://www.athousakis.gr/images/usrImage/29-04-2021-10-25-608a5f517a0b8.jpg&imgrefurl=https://www.athousakis.gr/en/kapaki/cylinder-head-md305479-g6nfr-for-mitsubishi-6.html&tbnid=Xg9vytX9NtnT4M&vet=1&docid=2nvl95VUznhloM&w=275&h=275&itg=1&source=sh/x/im'\n",
    "temporal['imdb_link']='No info available'\n",
    "temporal['netflix']=0\n",
    "temporal.head()"
   ]
  },
  {
   "cell_type": "code",
   "execution_count": 19,
   "metadata": {},
   "outputs": [
    {
     "data": {
      "text/html": [
       "<div>\n",
       "<style scoped>\n",
       "    .dataframe tbody tr th:only-of-type {\n",
       "        vertical-align: middle;\n",
       "    }\n",
       "\n",
       "    .dataframe tbody tr th {\n",
       "        vertical-align: top;\n",
       "    }\n",
       "\n",
       "    .dataframe thead th {\n",
       "        text-align: right;\n",
       "    }\n",
       "</style>\n",
       "<table border=\"1\" class=\"dataframe\">\n",
       "  <thead>\n",
       "    <tr style=\"text-align: right;\">\n",
       "      <th></th>\n",
       "      <th>title</th>\n",
       "      <th>year</th>\n",
       "      <th>genre</th>\n",
       "      <th>languages</th>\n",
       "      <th>director</th>\n",
       "      <th>actors</th>\n",
       "      <th>age</th>\n",
       "      <th>netflix</th>\n",
       "      <th>hulu</th>\n",
       "      <th>prime_video</th>\n",
       "      <th>disney_plus</th>\n",
       "      <th>imdb_score</th>\n",
       "      <th>imdb_link</th>\n",
       "      <th>poster</th>\n",
       "      <th>summary</th>\n",
       "    </tr>\n",
       "  </thead>\n",
       "  <tbody>\n",
       "    <tr>\n",
       "      <th>0</th>\n",
       "      <td>HOW TO BUILD A GIRL</td>\n",
       "      <td>2020</td>\n",
       "      <td>Comedy</td>\n",
       "      <td>English</td>\n",
       "      <td>Coky Giedroyc</td>\n",
       "      <td>Paddy Considine, Cleo, Beanie Feldstein, Dónal...</td>\n",
       "      <td>NaN</td>\n",
       "      <td>1</td>\n",
       "      <td>0</td>\n",
       "      <td>0</td>\n",
       "      <td>0</td>\n",
       "      <td>5.8</td>\n",
       "      <td>https://www.imdb.com/title/tt4193072</td>\n",
       "      <td>https://m.media-amazon.com/images/M/MV5BZGUyN2...</td>\n",
       "      <td>When nerdy Johanna moves to London, things get...</td>\n",
       "    </tr>\n",
       "    <tr>\n",
       "      <th>1</th>\n",
       "      <td>Centigrade</td>\n",
       "      <td>2020</td>\n",
       "      <td>Drama, Thriller</td>\n",
       "      <td>English</td>\n",
       "      <td>Brendan Walsh</td>\n",
       "      <td>Genesis Rodriguez, Vincent Piazza</td>\n",
       "      <td>NaN</td>\n",
       "      <td>1</td>\n",
       "      <td>0</td>\n",
       "      <td>0</td>\n",
       "      <td>0</td>\n",
       "      <td>4.3</td>\n",
       "      <td>https://www.imdb.com/title/tt8945942</td>\n",
       "      <td>https://m.media-amazon.com/images/M/MV5BODM2MD...</td>\n",
       "      <td>Trapped in a frozen car during a blizzard, a p...</td>\n",
       "    </tr>\n",
       "  </tbody>\n",
       "</table>\n",
       "</div>"
      ],
      "text/plain": [
       "                 title  year            genre languages       director  \\\n",
       "0  HOW TO BUILD A GIRL  2020           Comedy   English  Coky Giedroyc   \n",
       "1           Centigrade  2020  Drama, Thriller   English  Brendan Walsh   \n",
       "\n",
       "                                              actors  age  netflix  hulu  \\\n",
       "0  Paddy Considine, Cleo, Beanie Feldstein, Dónal...  NaN        1     0   \n",
       "1                  Genesis Rodriguez, Vincent Piazza  NaN        1     0   \n",
       "\n",
       "   prime_video  disney_plus  imdb_score                             imdb_link  \\\n",
       "0            0            0         5.8  https://www.imdb.com/title/tt4193072   \n",
       "1            0            0         4.3  https://www.imdb.com/title/tt8945942   \n",
       "\n",
       "                                              poster  \\\n",
       "0  https://m.media-amazon.com/images/M/MV5BZGUyN2...   \n",
       "1  https://m.media-amazon.com/images/M/MV5BODM2MD...   \n",
       "\n",
       "                                             summary  \n",
       "0  When nerdy Johanna moves to London, things get...  \n",
       "1  Trapped in a frozen car during a blizzard, a p...  "
      ]
     },
     "execution_count": 19,
     "metadata": {},
     "output_type": "execute_result"
    }
   ],
   "source": [
    "# Merging the 2 temporal dataframes\n",
    "good_df=pd.concat([temporal2,temporal])\n",
    "\n",
    "# Dropiing duplicated movies\n",
    "good_df= good_df.drop_duplicates(subset='key',keep='first')\n",
    "\n",
    "good_df=good_df[['title_x', 'year_x', 'genre_x', 'languages_x', 'director_x','actors','age', \n",
    "       'netflix', 'hulu', 'prime_video', 'disney_plus','imdb_score', 'imdb_link', 'poster','summary']]\n",
    "good_df['hulu'] = good_df['hulu'].fillna(0).astype(int)\n",
    "good_df['prime_video'] = good_df['prime_video'].fillna(0).astype(int)\n",
    "good_df['disney_plus'] = good_df['disney_plus'].fillna(0).astype(int)\n",
    "good_df['year_x']=good_df['year_x'].astype(int)\n",
    "good_df['netflix']=good_df['netflix'].astype(int)\n",
    "\n",
    "# Renaming columns for clarity, and getting ready to export to Mongo\n",
    "good_df=good_df.rename(columns={'title_x':'title','year_x':'year','genre_x':'genre','languages_x':'languages','director_x':'director'})\n",
    "good_df.head(2)"
   ]
  },
  {
   "cell_type": "markdown",
   "metadata": {},
   "source": [
    "### Create Mongodb connection"
   ]
  },
  {
   "cell_type": "code",
   "execution_count": 20,
   "metadata": {},
   "outputs": [],
   "source": [
    "# Initialize PyMongo to work with MongoDBs\n",
    "conn = 'mongodb://localhost:27017'\n",
    "client = pymongo.MongoClient(conn)\n",
    "\n",
    "# Define database and collection\n",
    "db = client.ETL_project\n",
    "collection = db.Movies"
   ]
  },
  {
   "cell_type": "markdown",
   "metadata": {},
   "source": [
    "### Load DataFrames into database"
   ]
  },
  {
   "cell_type": "code",
   "execution_count": 21,
   "metadata": {},
   "outputs": [
    {
     "name": "stdout",
     "output_type": "stream",
     "text": [
      "24681\n"
     ]
    }
   ],
   "source": [
    "# Making sure database is empty\n",
    "collection.drop()\n",
    "\n",
    "# Creating the dictionary for Mongo\n",
    "# We want title as object, hence the for loop\n",
    "\n",
    "# Initializing variables and loop parameters\n",
    "rows=len(good_df)\n",
    "movies_dict={}\n",
    "x=0 # This is just a counter to make sure loop parameters are correct\n",
    "\n",
    "for row in range(0,rows):\n",
    "    movies_dict={'title':good_df.iloc[row,:][0],\n",
    "                'year':(good_df.iloc[row,:][1]).astype(str),\n",
    "                'genre':good_df.iloc[row,:][2],\n",
    "                 'languages':good_df.iloc[row,:][3],\n",
    "                 'director':good_df.iloc[row,:][4],\n",
    "                 'actors':good_df.iloc[row,:][5],\n",
    "                 'age':good_df.iloc[row,:][6],\n",
    "                 'netflix':good_df.iloc[row,:][7].astype(str),\n",
    "                 'hulu':good_df.iloc[row,:][8].astype(str),\n",
    "                 'prime_video':good_df.iloc[row,:][9].astype(str),\n",
    "                 'disney_plus':good_df.iloc[row,:][10].astype(str),\n",
    "                 'imdb_score':good_df.iloc[row,:][11],\n",
    "                 'imdb_link':good_df.iloc[row,:][12],\n",
    "                 'poster':good_df.iloc[row,:][13],\n",
    "                 'summary':good_df.iloc[row,:][14]}\n",
    "    x += 1\n",
    "    collection.insert_one(movies_dict)\n",
    "\n",
    "print(x)"
   ]
  },
  {
   "cell_type": "code",
   "execution_count": null,
   "metadata": {},
   "outputs": [],
   "source": []
  }
 ],
 "metadata": {
  "kernelspec": {
   "display_name": "Python 3",
   "language": "python",
   "name": "python3"
  },
  "language_info": {
   "codemirror_mode": {
    "name": "ipython",
    "version": 3
   },
   "file_extension": ".py",
   "mimetype": "text/x-python",
   "name": "python",
   "nbconvert_exporter": "python",
   "pygments_lexer": "ipython3",
   "version": "3.6.10"
  }
 },
 "nbformat": 4,
 "nbformat_minor": 4
}
